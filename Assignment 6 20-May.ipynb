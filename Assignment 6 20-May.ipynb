{
 "cells": [
  {
   "cell_type": "markdown",
   "id": "7460390a",
   "metadata": {},
   "source": [
    "#### Q.1. What are keywords in python? Using the keyword library, print all the python keywords.\n"
   ]
  },
  {
   "cell_type": "code",
   "execution_count": 1,
   "id": "a458ad67",
   "metadata": {},
   "outputs": [
    {
     "name": "stdout",
     "output_type": "stream",
     "text": [
      "['False', 'None', 'True', '__peg_parser__', 'and', 'as', 'assert', 'async', 'await', 'break', 'class', 'continue', 'def', 'del', 'elif', 'else', 'except', 'finally', 'for', 'from', 'global', 'if', 'import', 'in', 'is', 'lambda', 'nonlocal', 'not', 'or', 'pass', 'raise', 'return', 'try', 'while', 'with', 'yield']\n"
     ]
    }
   ],
   "source": [
    "## Ans: Keywords are the reserved words which that cannot be used as identifiers or cannot be used for assigning the variables\n",
    "\n",
    "## Using the Keyword Library print all the python keywords\n",
    "\n",
    "import keyword\n",
    "print(keyword.kwlist)\n",
    "\n"
   ]
  },
  {
   "cell_type": "markdown",
   "id": "87eb067a",
   "metadata": {},
   "source": [
    "### Q2. What are the rules to create variables in python?\n",
    "\n",
    "The rules are as below:\n",
    "\n",
    "1. The variable name should not start with any digit or number.\n",
    "2. The variable name should not use the keyworkds\n",
    "3. It cannot have any special characters such as @,# etc\n",
    "4. It should not have space"
   ]
  },
  {
   "cell_type": "markdown",
   "id": "abe9fdee",
   "metadata": {},
   "source": [
    "### Q3.What are the standards and conventions followed for the nomenclature of variables in python to improve code readability and maintainability?"
   ]
  },
  {
   "cell_type": "code",
   "execution_count": 21,
   "id": "382da109",
   "metadata": {},
   "outputs": [],
   "source": [
    "# Ans Constants should be used to improve the code readibility and maintainability."
   ]
  },
  {
   "cell_type": "markdown",
   "id": "1d684962",
   "metadata": {},
   "source": [
    "### Q4. What will happen if a keyword is used as a variable name?"
   ]
  },
  {
   "cell_type": "markdown",
   "id": "d5157074",
   "metadata": {},
   "source": [
    "#### Ans:  It will throw an error and the variable will not be assigned."
   ]
  },
  {
   "cell_type": "markdown",
   "id": "7f5ae6ec",
   "metadata": {},
   "source": [
    "### Q5:For what purpose def keyword is used?\n",
    "\n",
    "Ans : It is used to created or define a function"
   ]
  },
  {
   "cell_type": "markdown",
   "id": "c5207c03",
   "metadata": {},
   "source": [
    "### Q6: What is the operation of this special character ‘\\’?\n",
    "\n",
    "#### Ans: This is also known as the escape character. This is used in representing certain white space characters."
   ]
  },
  {
   "cell_type": "markdown",
   "id": "d4011587",
   "metadata": {},
   "source": [
    "### Q7: Give an example of the following conditions:\n",
    "(i) Homogeneous list\n",
    "(ii) Heterogeneous set\n",
    "(iii) Homogeneous tuple"
   ]
  },
  {
   "cell_type": "code",
   "execution_count": 2,
   "id": "c1e2c2a9",
   "metadata": {
    "scrolled": true
   },
   "outputs": [],
   "source": [
    "## 1. Homogeneous List:\n",
    "\n",
    "my_list=['Apples','Berries','Banana','Orange']\n",
    "\n",
    "## 2. Heterogeneous set\n",
    "\n",
    "het_set={1,'Bank',0.3}\n",
    "\n",
    "## 3. Homogeneous tuple\n",
    "\n",
    "homog_tuple=(\"Rice\",\"Wheat\",\"Butter\")"
   ]
  },
  {
   "cell_type": "markdown",
   "id": "997cc55f",
   "metadata": {},
   "source": [
    "### Q8: Explain the mutable and immutable data types with proper explanation & examples"
   ]
  },
  {
   "cell_type": "code",
   "execution_count": 3,
   "id": "3e868da4",
   "metadata": {},
   "outputs": [
    {
     "name": "stdout",
     "output_type": "stream",
     "text": [
      "[1, 2, 3, 4, 5, 6, 7, 8]\n"
     ]
    }
   ],
   "source": [
    "#### 1. Mutable Data Types: \n",
    "\"\"\"Mutable Definition:Mutable data types are those who values can be replaced or modifications can be made as and when needed once it is created. There are mainly 3 mutable data types as below:\n",
    "1. List\n",
    "2. Dictionary\n",
    "3. Set\n",
    "\n",
    "2. Immutable Data Types: Immutable Data types are those who values cannot be changed once it is created. Below are the list of immutable data types\n",
    "\n",
    "1. Tuples\n",
    "2. Integers\n",
    "3. Float\n",
    "4. Strings\n",
    "5. Boolean\"\"\"\n",
    "\n",
    "# Examples:\n",
    "\n",
    "# 1. List\n",
    "my_list=[1,2,3,4,5,6,7]\n",
    "\n",
    "## In case if we want to add any numbers in the end we can do that\n",
    "\n",
    "my_list.append(8)\n",
    "\n",
    "print(my_list)\n"
   ]
  },
  {
   "cell_type": "code",
   "execution_count": 4,
   "id": "cdd2d825",
   "metadata": {},
   "outputs": [
    {
     "name": "stdout",
     "output_type": "stream",
     "text": [
      "{'Fruit': 'Apple', 'Veg': 'Brinjal', 'Veg1': 'Potato'}\n"
     ]
    }
   ],
   "source": [
    "## 2. Dictionary\n",
    "\n",
    "## Dictionary containing 2 Key and Values\n",
    "\n",
    "my_dict={'Fruit':\"Apple\",'Veg':'Brinjal'}\n",
    "\n",
    "## Updated the dictionary using update(Veg1 and Potato) and below we have 3 key and Values\n",
    "\n",
    "my_dict.update({'Veg1':'Potato'})\n",
    "\n",
    "print(my_dict)"
   ]
  },
  {
   "cell_type": "code",
   "execution_count": 5,
   "id": "9fe99657",
   "metadata": {},
   "outputs": [
    {
     "name": "stdout",
     "output_type": "stream",
     "text": [
      "{'Cooker', 'Fridge', 'Mixer', 'AC'}\n",
      "--------------------------------\n",
      "{'Fridge', 'Mixer', 'AC'}\n"
     ]
    }
   ],
   "source": [
    "## 3. Set\n",
    "\n",
    "## Creating a set with 3 variables\n",
    "\n",
    "my_set={'Fridge','AC','Mixer'}\n",
    "\n",
    "## Added Cooker \n",
    "\n",
    "my_set.add(\"Cooker\") ## This adds an element to the random position\n",
    "\n",
    "## After adding the Cooker to the list\n",
    "print (my_set)\n",
    "\n",
    "print('--------------------------------')\n",
    "\n",
    "## After removing the element from the set\n",
    "\n",
    "my_set.pop() ## Will remove the element from the random position. AC has been removed.\n",
    "\n",
    "print(my_set)\n"
   ]
  },
  {
   "cell_type": "code",
   "execution_count": 6,
   "id": "62b71a0c",
   "metadata": {},
   "outputs": [
    {
     "name": "stdout",
     "output_type": "stream",
     "text": [
      "(1, 2, 3, 4)\n",
      "===============================\n",
      "144\n",
      "================================\n",
      "244\n"
     ]
    }
   ],
   "source": [
    "## Immutable Data Types-- There are others as well like Float,String,Boolean\n",
    "## 1. Tuples\n",
    "tuple1=(1,2,3,4)\n",
    "#tuple1.pop()    #tuple cannot be modified\n",
    "#tuple1.append()  #tuple cannot be modified\n",
    "print(tuple1)\n",
    "\n",
    "print('===============================')\n",
    "\n",
    "#2. Integers\n",
    "\n",
    "a=144\n",
    "print(a)\n",
    "\n",
    "print(\"================================\")\n",
    "# After assining the value again to a\n",
    "a=244\n",
    "\n",
    "print(a)"
   ]
  },
  {
   "cell_type": "code",
   "execution_count": 10,
   "id": "e5ede07b",
   "metadata": {},
   "outputs": [
    {
     "name": "stdout",
     "output_type": "stream",
     "text": [
      "*\n",
      "***\n",
      "*****\n",
      "*******\n",
      "*********\n"
     ]
    }
   ],
   "source": [
    "## Q9.Write a code to create the given structure using only for loop.\n",
    "#*\n",
    "#***\n",
    "#*****\n",
    "#*******\n",
    "#*********\n",
    "\n",
    "\n",
    "for i in range(1,10,2):\n",
    "    for j in range(i+0):\n",
    "          print(\"*\",end=\"\")\n",
    "    print()"
   ]
  },
  {
   "cell_type": "code",
   "execution_count": 19,
   "id": "ff14ae0f",
   "metadata": {},
   "outputs": [
    {
     "name": "stdout",
     "output_type": "stream",
     "text": [
      "/////////\n",
      "///////\n",
      "/////\n",
      "///\n",
      "/\n"
     ]
    }
   ],
   "source": [
    "## Q.10. Write a code to create the given structure using while loop.\n",
    "#|||||||||\n",
    "#|||||||\n",
    "#|||||\n",
    "#|||\n",
    "#|\n",
    "\n",
    "n = 9\n",
    "\n",
    "i = 1\n",
    "while i <= n :\n",
    "    j = n\n",
    "    while j >= i:\n",
    "        print(\"/\", end = \"\")\n",
    "        j -= 1\n",
    "    print()\n",
    "    i += 2"
   ]
  },
  {
   "cell_type": "code",
   "execution_count": null,
   "id": "901a168f",
   "metadata": {},
   "outputs": [],
   "source": []
  }
 ],
 "metadata": {
  "kernelspec": {
   "display_name": "Python 3 (ipykernel)",
   "language": "python",
   "name": "python3"
  },
  "language_info": {
   "codemirror_mode": {
    "name": "ipython",
    "version": 3
   },
   "file_extension": ".py",
   "mimetype": "text/x-python",
   "name": "python",
   "nbconvert_exporter": "python",
   "pygments_lexer": "ipython3",
   "version": "3.9.12"
  }
 },
 "nbformat": 4,
 "nbformat_minor": 5
}
